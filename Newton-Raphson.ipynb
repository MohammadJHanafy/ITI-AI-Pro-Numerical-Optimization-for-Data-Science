{
 "cells": [
  {
   "cell_type": "markdown",
   "metadata": {},
   "source": [
    "# 2. Newton-Raphson"
   ]
  },
  {
   "cell_type": "code",
   "execution_count": 90,
   "metadata": {},
   "outputs": [],
   "source": [
    "from sympy import *\n",
    "x = symbols('x')"
   ]
  },
  {
   "cell_type": "code",
   "execution_count": 91,
   "metadata": {},
   "outputs": [],
   "source": [
    "def netwon_raphson(f, x0, tol):\n",
    "    x = symbols('x')\n",
    "    f_prime = f.diff(x)\n",
    "    xn = x0\n",
    "    f2 = f.evalf(subs= {x:xn})\n",
    "    f_prime2 = f_prime.evalf(subs= {x:xn})\n",
    "\n",
    "    print(f'F = {f}, F_der = {f_prime}, x0 = {xn}, F(x) = {f2}')\n",
    "    count = 0\n",
    "    while abs(f2) >= tol:\n",
    "        count += 1\n",
    "        xn = xn - ((f.evalf(subs= {x:xn})) / (f_prime.evalf(subs= {x:xn})))\n",
    "        f2 = f.evalf(subs= {x:xn})\n",
    "        print(f'x = {xn}, F(x) = {f.evalf(subs= {x:xn})}, iteration = {count}.')\n",
    "    \n",
    "     \n",
    "    return f'The value of the root is : {xn}, number of iterations = {count}.'"
   ]
  },
  {
   "cell_type": "markdown",
   "metadata": {},
   "source": [
    "## a. f(x) = 𝒙^𝟐−𝒙−𝟏,     𝒙𝟎=𝟏"
   ]
  },
  {
   "cell_type": "code",
   "execution_count": 92,
   "metadata": {},
   "outputs": [],
   "source": [
    "fa = x**2-x-1\n",
    "x0a = 1\n",
    "tola = 1e-6"
   ]
  },
  {
   "cell_type": "code",
   "execution_count": 93,
   "metadata": {},
   "outputs": [
    {
     "name": "stdout",
     "output_type": "stream",
     "text": [
      "F = x**2 - x - 1, F_der = 2*x - 1, x0 = 1, F(x) = -1.00000000000000\n",
      "x = 2.00000000000000, F(x) = 1.00000000000000, iteration = 1.\n",
      "x = 1.66666666666667, F(x) = 0.111111111111111, iteration = 2.\n",
      "x = 1.61904761904762, F(x) = 0.00226757369614517, iteration = 3.\n",
      "x = 1.61803444782168, F(x) = 0.00000102651593321747, iteration = 4.\n",
      "x = 1.61803398874999, F(x) = 2.10640361983948E-13, iteration = 5.\n"
     ]
    },
    {
     "data": {
      "text/plain": [
       "'The value of the root is : 1.61803398874999, number of iterations = 5.'"
      ]
     },
     "execution_count": 93,
     "metadata": {},
     "output_type": "execute_result"
    }
   ],
   "source": [
    "netwon_raphson(fa, x0a, tola)"
   ]
  },
  {
   "cell_type": "markdown",
   "metadata": {},
   "source": [
    "## b. f(x) = 𝒙^𝟑−𝟕𝒙^𝟐+𝟖𝒙−𝟑,     𝒙𝟎=𝟓"
   ]
  },
  {
   "cell_type": "code",
   "execution_count": 94,
   "metadata": {},
   "outputs": [],
   "source": [
    "fb = x**3-7*x**2+8*x-3\n",
    "x0b = 511\n",
    "tolb = 1e-6"
   ]
  },
  {
   "cell_type": "code",
   "execution_count": 95,
   "metadata": {},
   "outputs": [
    {
     "name": "stdout",
     "output_type": "stream",
     "text": [
      "F = x**3 - 7*x**2 + 8*x - 3, F_der = 3*x**2 - 14*x + 8, x0 = 511, F(x) = 131609069.000000\n",
      "x = 341.448097632492, F(x) = 38994963.1832212, iteration = 1.\n",
      "x = 228.415332074144, F(x) = 11553851.3049434, iteration = 2.\n",
      "x = 153.062920862778, F(x) = 3423221.26004208, iteration = 3.\n",
      "x = 102.832155374383, F(x) = 1014192.20145427, iteration = 4.\n",
      "x = 69.3513012637499, F(x) = 300436.815210044, iteration = 5.\n",
      "x = 47.0403512539255, F(x) = 88974.3976923883, iteration = 6.\n",
      "x = 32.1811183037547, F(x) = 26332.6288586141, iteration = 7.\n",
      "x = 22.2977498644390, F(x) = 7781.26488476716, iteration = 8.\n",
      "x = 15.7445563805947, F(x) = 2290.65376317408, iteration = 9.\n",
      "x = 11.4327324801231, F(x) = 667.852672928740, iteration = 10.\n",
      "x = 8.65075326138837, F(x) = 189.741024590378, iteration = 11.\n",
      "x = 6.94745207553526, F(x) = 50.0432811868654, iteration = 12.\n",
      "x = 6.04637111188364, F(x) = 10.5076283713423, iteration = 13.\n",
      "x = 5.72821473178169, F(x) = 1.09533494377237, iteration = 14.\n",
      "x = 5.68647548380809, F(x) = 0.0176706121861429, iteration = 15.\n",
      "x = 5.68577971792135, F(x) = 0.00000486933264697037, iteration = 16.\n",
      "x = 5.68577952608964, F(x) = 3.69729253001181E-13, iteration = 17.\n"
     ]
    },
    {
     "data": {
      "text/plain": [
       "'The value of the root is : 5.68577952608964, number of iterations = 17.'"
      ]
     },
     "execution_count": 95,
     "metadata": {},
     "output_type": "execute_result"
    }
   ],
   "source": [
    "netwon_raphson(fb, x0b, tolb)"
   ]
  },
  {
   "cell_type": "markdown",
   "metadata": {},
   "source": [
    "## c. 𝒇(𝒙)=𝒙𝒄𝒐𝒔(𝒙)−𝒙^𝟐,  𝒙𝟎=𝟏"
   ]
  },
  {
   "cell_type": "code",
   "execution_count": 96,
   "metadata": {},
   "outputs": [],
   "source": [
    "fc = x*cos(x) - x**2\n",
    "x0c = 1\n",
    "tolc = 1e-6"
   ]
  },
  {
   "cell_type": "code",
   "execution_count": 97,
   "metadata": {},
   "outputs": [
    {
     "name": "stdout",
     "output_type": "stream",
     "text": [
      "F = -x**2 + x*cos(x), F_der = -x*sin(x) - 2*x + cos(x), x0 = 1, F(x) = -0.459697694131860\n",
      "x = 0.800232943226195, F(x) = -0.0829788394826493, iteration = 1.\n",
      "x = 0.744094398494345, F(x) = -0.00624505431748105, iteration = 2.\n",
      "x = 0.739124068356762, F(x) = -0.0000481634541113711, iteration = 3.\n",
      "x = 0.739085135600735, F(x) = -2.95081653714566E-9, iteration = 4.\n"
     ]
    },
    {
     "data": {
      "text/plain": [
       "'The value of the root is : 0.739085135600735, number of iterations = 4.'"
      ]
     },
     "execution_count": 97,
     "metadata": {},
     "output_type": "execute_result"
    }
   ],
   "source": [
    "netwon_raphson(fc, x0c, tolc)"
   ]
  }
 ],
 "metadata": {
  "kernelspec": {
   "display_name": "Python 3",
   "language": "python",
   "name": "python3"
  },
  "language_info": {
   "codemirror_mode": {
    "name": "ipython",
    "version": 3
   },
   "file_extension": ".py",
   "mimetype": "text/x-python",
   "name": "python",
   "nbconvert_exporter": "python",
   "pygments_lexer": "ipython3",
   "version": "3.8.5"
  }
 },
 "nbformat": 4,
 "nbformat_minor": 4
}
